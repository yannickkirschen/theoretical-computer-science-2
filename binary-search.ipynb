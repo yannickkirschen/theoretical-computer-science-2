{
 "cells": [
  {
   "cell_type": "markdown",
   "source": [
    "# Binary Search"
   ],
   "metadata": {
    "collapsed": false,
    "pycharm": {
     "name": "#%% md\n"
    }
   }
  },
  {
   "cell_type": "markdown",
   "source": [
    "Assume a list $S$ is sorted and contains every object at most once. Develop an efficient algorithm for testing whether a given object $x$ is a member of the list $S$."
   ],
   "metadata": {
    "collapsed": false,
    "pycharm": {
     "name": "#%% md\n"
    }
   }
  },
  {
   "cell_type": "code",
   "execution_count": 10,
   "outputs": [],
   "source": [
    "from typing import List, TypeVar\n",
    "\n",
    "E = TypeVar('E')\n",
    "\n",
    "def contains(l: List[E], e: E) -> bool:\n",
    "    return binary_search(l, e, 0, len(l) - 1)\n",
    "\n",
    "def binary_search(l: List[E], e: E, left: int, right: int):\n",
    "    if right >= left:\n",
    "        middle = left + (right - left) // 2\n",
    "\n",
    "        if l[middle] == e:\n",
    "            return True\n",
    "        elif l[middle] > e:\n",
    "            return binary_search(l, e, left, middle - 1)\n",
    "        return binary_search(l, e, middle + 1, right)\n",
    "\n",
    "    return False"
   ],
   "metadata": {
    "collapsed": false,
    "pycharm": {
     "name": "#%%\n"
    }
   }
  },
  {
   "cell_type": "code",
   "execution_count": 11,
   "outputs": [
    {
     "name": "stdout",
     "output_type": "stream",
     "text": [
      "True\n"
     ]
    }
   ],
   "source": [
    "my_list = [1, 2, 3, 4, 5, 6, 7, 8, 9, 10]\n",
    "print(contains(my_list, 4))"
   ],
   "metadata": {
    "collapsed": false,
    "pycharm": {
     "name": "#%%\n"
    }
   }
  },
  {
   "cell_type": "code",
   "execution_count": null,
   "outputs": [],
   "source": [],
   "metadata": {
    "collapsed": false,
    "pycharm": {
     "name": "#%%\n"
    }
   }
  }
 ],
 "metadata": {
  "kernelspec": {
   "display_name": "Python 3",
   "language": "python",
   "name": "python3"
  },
  "language_info": {
   "codemirror_mode": {
    "name": "ipython",
    "version": 2
   },
   "file_extension": ".py",
   "mimetype": "text/x-python",
   "name": "python",
   "nbconvert_exporter": "python",
   "pygments_lexer": "ipython2",
   "version": "2.7.6"
  }
 },
 "nbformat": 4,
 "nbformat_minor": 0
}