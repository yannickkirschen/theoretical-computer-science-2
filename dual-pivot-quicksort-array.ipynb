{
 "cells": [
  {
   "cell_type": "markdown",
   "source": [
    "# Dual Pivot Quicksort Array\n",
    "\n",
    "This is an array-based implementation of dual pivot quicksort."
   ],
   "metadata": {
    "collapsed": false,
    "pycharm": {
     "name": "#%% md\n"
    }
   }
  },
  {
   "cell_type": "code",
   "execution_count": 1,
   "outputs": [],
   "source": [
    "def sort(l):\n",
    "    dual_pivot_quick_sort_array(0, len(l) - 1, l)\n",
    "\n",
    "def dual_pivot_quick_sort_array(start, end, l):\n",
    "    if end <= start:\n",
    "        return\n",
    "\n",
    "    x1, x2 = l[start], l[end]\n",
    "    if x1 > x2:\n",
    "        swap(start, end, l)\n",
    "\n",
    "    m1, m2 = partition(start, end, l)  # m1 and m2 are the split indices\n",
    "    dual_pivot_quick_sort_array(start, m1 - 1, l)\n",
    "\n",
    "    if l[m1] != l[m2]:\n",
    "        dual_pivot_quick_sort_array(m1 + 1, m2 - 1, l)\n",
    "\n",
    "    dual_pivot_quick_sort_array(m2 + 1, end, l)\n",
    "\n",
    "def partition(start, end, l):\n",
    "    p1 = l[start]\n",
    "    p2 = l[end]\n",
    "\n",
    "    index_left   = start\n",
    "    index_middle = start + 1\n",
    "    index_right  = end\n",
    "\n",
    "    while index_middle < index_right:\n",
    "        x = l[index_middle]\n",
    "        if x < p1:\n",
    "            index_left += 1\n",
    "            swap(index_left, index_middle, l)\n",
    "            index_middle += 1\n",
    "        elif x <= p2:\n",
    "            index_middle += 1\n",
    "        else:\n",
    "            index_right -= 1\n",
    "            swap(index_middle, index_right, l)\n",
    "\n",
    "    swap(start, index_left, l)\n",
    "    swap(end, index_right, l)\n",
    "    return index_left, index_right\n",
    "\n",
    "def swap(x, y, l):\n",
    "    l[x], l[y] = l[y], l[x]"
   ],
   "metadata": {
    "collapsed": false,
    "pycharm": {
     "name": "#%%\n"
    }
   }
  },
  {
   "cell_type": "code",
   "execution_count": 3,
   "outputs": [
    {
     "name": "stdout",
     "output_type": "stream",
     "text": [
      "[4, 6, 3, 0, 10, 34, 3, 5]\n",
      "[0, 3, 3, 4, 5, 6, 10, 34]\n"
     ]
    }
   ],
   "source": [
    "my_list = [4, 6, 3, 0, 10, 34, 3, 5]\n",
    "print(my_list)\n",
    "sort(my_list)\n",
    "print(my_list)"
   ],
   "metadata": {
    "collapsed": false,
    "pycharm": {
     "name": "#%%\n"
    }
   }
  },
  {
   "cell_type": "code",
   "execution_count": null,
   "outputs": [],
   "source": [],
   "metadata": {
    "collapsed": false,
    "pycharm": {
     "name": "#%%\n"
    }
   }
  }
 ],
 "metadata": {
  "kernelspec": {
   "display_name": "Python 3",
   "language": "python",
   "name": "python3"
  },
  "language_info": {
   "codemirror_mode": {
    "name": "ipython",
    "version": 2
   },
   "file_extension": ".py",
   "mimetype": "text/x-python",
   "name": "python",
   "nbconvert_exporter": "python",
   "pygments_lexer": "ipython2",
   "version": "2.7.6"
  }
 },
 "nbformat": 4,
 "nbformat_minor": 0
}