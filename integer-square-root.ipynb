{
 "cells": [
  {
   "cell_type": "markdown",
   "source": [
    "# Efficient Computation of the Integer Square Root"
   ],
   "metadata": {
    "collapsed": false,
    "pycharm": {
     "name": "#%% md\n"
    }
   }
  },
  {
   "cell_type": "markdown",
   "source": [
    "## Assignment\n",
    "\n",
    "Given $n \\in \\mathbb{N}$, the **integer square root** of $n$ is the largest number $r \\in \\mathbb{N}$ such that $r^2$ is less or equal than $n$, i.e. we have $isqrt(n) := max({r \\in \\mathbb{N} | r^2 \\leq n})$.\n",
    "\n",
    "Develop a recursive algorithm that computes $isqrt(n)$ in terms of $isqrt(n // 4)$."
   ],
   "metadata": {
    "collapsed": false,
    "pycharm": {
     "name": "#%% md\n"
    }
   }
  },
  {
   "cell_type": "code",
   "execution_count": 1,
   "outputs": [],
   "source": [
    "def isqrt(n):\n",
    "    if n == 0:\n",
    "        return 0\n",
    "\n",
    "    r = isqrt(n // 4)\n",
    "\n",
    "    if (2 * r + 1) ** 2 <= n:\n",
    "        return 2 * r + 1\n",
    "\n",
    "    return 2 * r"
   ],
   "metadata": {
    "collapsed": false,
    "pycharm": {
     "name": "#%%\n"
    }
   }
  },
  {
   "cell_type": "code",
   "execution_count": 2,
   "outputs": [
    {
     "name": "stdout",
     "output_type": "stream",
     "text": [
      "1\n",
      "2\n"
     ]
    }
   ],
   "source": [
    "print(isqrt(3)) # 1\n",
    "print(isqrt(4)) # 2"
   ],
   "metadata": {
    "collapsed": false,
    "pycharm": {
     "name": "#%%\n"
    }
   }
  },
  {
   "cell_type": "code",
   "execution_count": null,
   "outputs": [],
   "source": [],
   "metadata": {
    "collapsed": false,
    "pycharm": {
     "name": "#%%\n"
    }
   }
  }
 ],
 "metadata": {
  "kernelspec": {
   "display_name": "Python 3",
   "language": "python",
   "name": "python3"
  },
  "language_info": {
   "codemirror_mode": {
    "name": "ipython",
    "version": 2
   },
   "file_extension": ".py",
   "mimetype": "text/x-python",
   "name": "python",
   "nbconvert_exporter": "python",
   "pygments_lexer": "ipython2",
   "version": "2.7.6"
  }
 },
 "nbformat": 4,
 "nbformat_minor": 0
}