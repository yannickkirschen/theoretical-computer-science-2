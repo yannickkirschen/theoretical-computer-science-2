{
 "cells": [
  {
   "cell_type": "markdown",
   "metadata": {
    "pycharm": {
     "name": "#%% md\n"
    }
   },
   "source": [
    "# Assignments to learn Python\n",
    "\n",
    "*Note: try to avoid `for`- and `while`-loops and use sets instead.*"
   ]
  },
  {
   "cell_type": "markdown",
   "metadata": {
    "pycharm": {
     "name": "#%% md\n"
    }
   },
   "source": [
    "## Assignment 1\n",
    "\n",
    "A number $m \\in \\mathbb{N}$ is a **real divisor** of a number $n \\in \\mathbb{N}$ if $m$ is a divisor of $n$ and $m < n$.\n",
    "A number $n \\in \\mathbb{N}$ is called **perfect**, if $n$ is equal to the sum of all real divisors of $n$. For example, the number $6$ is perfect as the set of real divisors of $6$ is ${1,2,3}$ and it holds $1+2+3=6$."
   ]
  },
  {
   "cell_type": "markdown",
   "source": [
    "### a)\n",
    "\n",
    "Implement a function `real_divisors`, such that a call `real_divisors(n)` for $n \\in \\mathbb{N}$ calculates the set of all real divisors of $n$."
   ],
   "metadata": {
    "collapsed": false,
    "pycharm": {
     "name": "#%% md\n"
    }
   }
  },
  {
   "cell_type": "code",
   "execution_count": 225,
   "metadata": {
    "pycharm": {
     "name": "#%%\n"
    }
   },
   "outputs": [],
   "source": [
    "def real_divisors(n):\n",
    "    return {x for x in range(1, n // 2 + 1) if n % x == 0}"
   ]
  },
  {
   "cell_type": "code",
   "execution_count": 226,
   "metadata": {
    "pycharm": {
     "name": "#%%\n"
    }
   },
   "outputs": [
    {
     "data": {
      "text/plain": "{1, 2, 3}"
     },
     "execution_count": 226,
     "metadata": {},
     "output_type": "execute_result"
    }
   ],
   "source": [
    "real_divisors(6)"
   ]
  },
  {
   "cell_type": "markdown",
   "source": [
    "### b)\n",
    "\n",
    "Implement a function `is_perfect`, such that a call `is_perfect(n)` for $n \\in \\mathbb{N}$ returns `True` if $n$ is a perfect number."
   ],
   "metadata": {
    "collapsed": false,
    "pycharm": {
     "name": "#%% md\n"
    }
   }
  },
  {
   "cell_type": "code",
   "execution_count": 227,
   "metadata": {
    "pycharm": {
     "name": "#%%\n"
    }
   },
   "outputs": [],
   "source": [
    "def is_perfect(n):\n",
    "    return sum(real_divisors(n)) == n"
   ]
  },
  {
   "cell_type": "code",
   "execution_count": 228,
   "metadata": {
    "pycharm": {
     "name": "#%%\n"
    }
   },
   "outputs": [
    {
     "data": {
      "text/plain": "True"
     },
     "execution_count": 228,
     "metadata": {},
     "output_type": "execute_result"
    }
   ],
   "source": [
    "is_perfect(6)"
   ]
  },
  {
   "cell_type": "markdown",
   "source": [
    "### c)\n",
    "\n",
    "Calculate the set of all perfect numbers smaller than $10,000$."
   ],
   "metadata": {
    "collapsed": false,
    "pycharm": {
     "name": "#%% md\n"
    }
   }
  },
  {
   "cell_type": "code",
   "execution_count": 229,
   "metadata": {
    "pycharm": {
     "name": "#%%\n"
    }
   },
   "outputs": [
    {
     "data": {
      "text/plain": "{6, 28, 496, 8128}"
     },
     "execution_count": 229,
     "metadata": {},
     "output_type": "execute_result"
    }
   ],
   "source": [
    "{x for x in range(1, 10_000) if is_perfect(x)}"
   ]
  },
  {
   "cell_type": "markdown",
   "metadata": {
    "pycharm": {
     "name": "#%% md\n"
    }
   },
   "source": [
    "## Assignment 2"
   ]
  },
  {
   "cell_type": "markdown",
   "source": [
    "### a)\n",
    "\n",
    "Implement a function `common_divisor`, such that the call `common_divisor(m, n)` for $m,n \\in \\mathbb{N}$ calculates the set of all **common divisors** of $m$ and $n$."
   ],
   "metadata": {
    "collapsed": false,
    "pycharm": {
     "name": "#%% md\n"
    }
   }
  },
  {
   "cell_type": "code",
   "execution_count": 230,
   "metadata": {
    "pycharm": {
     "name": "#%%\n"
    }
   },
   "outputs": [],
   "source": [
    "def common_divisor(m, n):\n",
    "    return real_divisors(m) & real_divisors(n)"
   ]
  },
  {
   "cell_type": "code",
   "execution_count": 231,
   "metadata": {
    "pycharm": {
     "name": "#%%\n"
    }
   },
   "outputs": [
    {
     "data": {
      "text/plain": "{1, 2, 5, 10, 25}"
     },
     "execution_count": 231,
     "metadata": {},
     "output_type": "execute_result"
    }
   ],
   "source": [
    "common_divisor(100, 50)"
   ]
  },
  {
   "cell_type": "markdown",
   "source": [
    "### b)\n",
    "\n",
    "Implement a function `greatest_common_divisor`, such that the call `greatest_common_divisor(m, n)` for $m,n \\in \\mathbb{N}$ calculates the **greatest common divisor** of $m$ and $n$."
   ],
   "metadata": {
    "collapsed": false,
    "pycharm": {
     "name": "#%% md\n"
    }
   }
  },
  {
   "cell_type": "code",
   "execution_count": 232,
   "metadata": {
    "pycharm": {
     "name": "#%%\n"
    }
   },
   "outputs": [],
   "source": [
    "def greatest_common_divisor(m, n):\n",
    "    return max(common_divisor(m, n))"
   ]
  },
  {
   "cell_type": "code",
   "execution_count": 233,
   "metadata": {
    "pycharm": {
     "name": "#%%\n"
    }
   },
   "outputs": [
    {
     "data": {
      "text/plain": "6"
     },
     "execution_count": 233,
     "metadata": {},
     "output_type": "execute_result"
    }
   ],
   "source": [
    "greatest_common_divisor(60, 18)"
   ]
  },
  {
   "cell_type": "markdown",
   "metadata": {
    "pycharm": {
     "name": "#%% md\n"
    }
   },
   "source": [
    "## Assignment 3\n",
    "\n",
    "Implement a function `least_common_multiple`, such that the call `least_common_divisor(m, n)` for $m,n \\in \\mathbb{N}$ calculates the **least common multiple** of $m$ and $n$.\n",
    "\n",
    "Note: it holds $\\forall m,n \\in \\mathbb{N}: lcm(m,n) \\leq m \\cdot n$"
   ]
  },
  {
   "cell_type": "code",
   "execution_count": 234,
   "metadata": {
    "pycharm": {
     "name": "#%%\n"
    }
   },
   "outputs": [],
   "source": [
    "def least_common_multiple(m, n):\n",
    "    multiples_m = {x for x in range(m, m * n + 1) if x % m == 0}\n",
    "    multiples_n = {x for x in range(n, m * n + 1) if x % n == 0}\n",
    "\n",
    "    common_multiples = multiples_m & multiples_n\n",
    "    return min(common_multiples)\n",
    "\n",
    "def least_common_multiple_alternative(m, n):\n",
    "    return m * n // greatest_common_divisor(m, n)"
   ]
  },
  {
   "cell_type": "code",
   "execution_count": 235,
   "metadata": {
    "pycharm": {
     "name": "#%%\n"
    }
   },
   "outputs": [
    {
     "data": {
      "text/plain": "900"
     },
     "execution_count": 235,
     "metadata": {},
     "output_type": "execute_result"
    }
   ],
   "source": [
    "least_common_multiple(100, 90)"
   ]
  },
  {
   "cell_type": "markdown",
   "metadata": {
    "pycharm": {
     "name": "#%% md\n"
    }
   },
   "source": [
    "## Assignment 4"
   ]
  },
  {
   "cell_type": "markdown",
   "source": [
    "### a)\n",
    "\n",
    "Implement a function `subsets`, such that the call `subsets(s, n)` for a set $s$ and $n \\in \\mathbb{N}$ calculates the set of all subsets of $s$ that have exactly $n$ elements."
   ],
   "metadata": {
    "collapsed": false,
    "pycharm": {
     "name": "#%% md\n"
    }
   }
  },
  {
   "cell_type": "code",
   "execution_count": 236,
   "metadata": {
    "pycharm": {
     "name": "#%%\n"
    }
   },
   "outputs": [],
   "source": [
    "def subsets(s, n):\n",
    "    if n == 0:\n",
    "        return {frozenset()}\n",
    "\n",
    "    return {x | {y} for x in subsets(s, n - 1) for y in s if y not in x}"
   ]
  },
  {
   "cell_type": "code",
   "execution_count": 237,
   "metadata": {
    "pycharm": {
     "name": "#%%\n"
    }
   },
   "outputs": [
    {
     "data": {
      "text/plain": "{frozenset({3, 4}),\n frozenset({1, 4}),\n frozenset({4, 6}),\n frozenset({2, 3}),\n frozenset({1, 2}),\n frozenset({2, 6}),\n frozenset({4, 5}),\n frozenset({3, 6}),\n frozenset({2, 5}),\n frozenset({2, 4}),\n frozenset({5, 6}),\n frozenset({1, 5}),\n frozenset({3, 5}),\n frozenset({1, 6}),\n frozenset({1, 3})}"
     },
     "execution_count": 237,
     "metadata": {},
     "output_type": "execute_result"
    }
   ],
   "source": [
    "subsets({1,2,3,4,5,6}, 2)"
   ]
  },
  {
   "cell_type": "markdown",
   "source": [
    "### b)\n",
    "\n",
    "Implement a function `power_set`, such that the call `power_set(s)` for a set $s$ calculates the **power set** $2^s$. Use the function `subsets` you developed in part a)."
   ],
   "metadata": {
    "collapsed": false,
    "pycharm": {
     "name": "#%% md\n"
    }
   }
  },
  {
   "cell_type": "code",
   "execution_count": 238,
   "metadata": {
    "pycharm": {
     "name": "#%%\n"
    }
   },
   "outputs": [],
   "source": [
    "def power_set(s):\n",
    "    return {x for y in range(len(s) + 1) for x in subsets(s, y)}"
   ]
  },
  {
   "cell_type": "code",
   "execution_count": 239,
   "metadata": {
    "pycharm": {
     "name": "#%%\n"
    }
   },
   "outputs": [
    {
     "data": {
      "text/plain": "{frozenset(),\n frozenset({1, 3}),\n frozenset({1, 3, 5}),\n frozenset({1, 4}),\n frozenset({4, 6}),\n frozenset({2, 3}),\n frozenset({2, 3, 4}),\n frozenset({1}),\n frozenset({4, 5, 6}),\n frozenset({1, 6}),\n frozenset({1, 4, 5, 6}),\n frozenset({2, 6}),\n frozenset({4, 5}),\n frozenset({2, 3, 5, 6}),\n frozenset({1, 2, 3, 6}),\n frozenset({3, 4}),\n frozenset({2, 3, 4, 6}),\n frozenset({1, 4, 6}),\n frozenset({3, 4, 6}),\n frozenset({1, 3, 4, 6}),\n frozenset({1, 2, 3, 4, 6}),\n frozenset({5, 6}),\n frozenset({1, 3, 4, 5, 6}),\n frozenset({2, 4, 6}),\n frozenset({3, 4, 5}),\n frozenset({3, 4, 5, 6}),\n frozenset({2, 4}),\n frozenset({3, 5}),\n frozenset({2, 3, 5}),\n frozenset({1, 2, 3}),\n frozenset({1, 2, 3, 4, 5}),\n frozenset({2, 5, 6}),\n frozenset({2, 4, 5, 6}),\n frozenset({1, 2, 6}),\n frozenset({1, 3, 4}),\n frozenset({1, 2, 4, 6}),\n frozenset({5}),\n frozenset({1, 5}),\n frozenset({1, 3, 5, 6}),\n frozenset({1, 2, 5}),\n frozenset({4}),\n frozenset({1, 2}),\n frozenset({1, 2, 4}),\n frozenset({1, 2, 4, 5}),\n frozenset({3, 6}),\n frozenset({2}),\n frozenset({3}),\n frozenset({2, 3, 6}),\n frozenset({2, 5}),\n frozenset({1, 2, 3, 5, 6}),\n frozenset({2, 4, 5}),\n frozenset({2, 3, 4, 5}),\n frozenset({1, 4, 5}),\n frozenset({1, 2, 3, 4}),\n frozenset({6}),\n frozenset({2, 3, 4, 5, 6}),\n frozenset({1, 2, 5, 6}),\n frozenset({1, 2, 4, 5, 6}),\n frozenset({1, 3, 6}),\n frozenset({1, 3, 4, 5}),\n frozenset({1, 2, 3, 5}),\n frozenset({3, 5, 6}),\n frozenset({1, 5, 6}),\n frozenset({1, 2, 3, 4, 5, 6})}"
     },
     "execution_count": 239,
     "metadata": {},
     "output_type": "execute_result"
    }
   ],
   "source": [
    "power_set({1, 2, 3, 4, 5, 6})"
   ]
  },
  {
   "cell_type": "markdown",
   "metadata": {
    "pycharm": {
     "name": "#%% md\n"
    }
   },
   "source": [
    "## Assignment 5\n",
    "\n",
    "A tuple $\\langle a,b,c\\rangle$ is called an *ordered* **pythagorean triple** if $a^2+b^2=c^2$ and $a<b$. For example, $\\langle 3,4,5\\rangle$ is an ordered pythagorean triple, as $3^2+4^2=5^2$.\n",
    "A pythagorean triple $\\langle a,b,c\\rangle$ is a **reduced triple** if $a$, $b$ and $c$ don't share a non-trivial divisor."
   ]
  },
  {
   "cell_type": "markdown",
   "source": [
    "### a)\n",
    "\n",
    "Implement a function `pythagoras`, such that the call `pythagoras(n)` calculates the set of all ordered pythagorean triples $\\langle a,b,c\\rangle$ for $c \\leq n$."
   ],
   "metadata": {
    "collapsed": false,
    "pycharm": {
     "name": "#%% md\n"
    }
   }
  },
  {
   "cell_type": "code",
   "execution_count": 240,
   "metadata": {
    "pycharm": {
     "name": "#%%\n"
    }
   },
   "outputs": [],
   "source": [
    "def pythagoras(n):\n",
    "    return {(a, b, c)\n",
    "            for a in range(1, n)\n",
    "            for b in range(1, n)\n",
    "            for c in range(1, n + 1)\n",
    "            if a ** 2 + b ** 2 == c ** 2\n",
    "            and a < b}"
   ]
  },
  {
   "cell_type": "code",
   "execution_count": 241,
   "metadata": {
    "pycharm": {
     "name": "#%%\n"
    }
   },
   "outputs": [
    {
     "data": {
      "text/plain": "{(3, 4, 5)}"
     },
     "execution_count": 241,
     "metadata": {},
     "output_type": "execute_result"
    }
   ],
   "source": [
    "pythagoras(5)"
   ]
  },
  {
   "cell_type": "markdown",
   "source": [
    "### b)\n",
    "\n",
    "Implement a function `is_reduced`, such that the call `is_reduced(a, b, c)` returns `True` if $\\langle a,b,c\\rangle$ is reduced.\n",
    "\n",
    "Note: if $a$ and $b$ share a divisor, the same applies to $c$."
   ],
   "metadata": {
    "collapsed": false,
    "pycharm": {
     "name": "#%% md\n"
    }
   }
  },
  {
   "cell_type": "code",
   "execution_count": 242,
   "outputs": [],
   "source": [
    "def is_reduced(a, b):\n",
    "    return greatest_common_divisor(a, b) == 1"
   ],
   "metadata": {
    "collapsed": false,
    "pycharm": {
     "name": "#%%\n"
    }
   }
  },
  {
   "cell_type": "code",
   "execution_count": 243,
   "outputs": [
    {
     "data": {
      "text/plain": "True"
     },
     "execution_count": 243,
     "metadata": {},
     "output_type": "execute_result"
    }
   ],
   "source": [
    "is_reduced(5, 12)"
   ],
   "metadata": {
    "collapsed": false,
    "pycharm": {
     "name": "#%%\n"
    }
   }
  },
  {
   "cell_type": "markdown",
   "source": [
    "### c)\n",
    "\n",
    "Implement a function `reduced_pythagoras`, such that the call `reduced_pythagoras(n)` for $n \\in \\mathbb{N}$ calculates the set of all reduced ordered pythagorean triples $\\langle a,b,c\\rangle$."
   ],
   "metadata": {
    "collapsed": false,
    "pycharm": {
     "name": "#%% md\n"
    }
   }
  },
  {
   "cell_type": "code",
   "execution_count": 244,
   "metadata": {
    "pycharm": {
     "name": "#%%\n"
    }
   },
   "outputs": [],
   "source": [
    "def reduced_pythagoras(n):\n",
    "    return {(a, b, c) for (a, b, c) in pythagoras(n) if is_reduced(a, b)}"
   ]
  },
  {
   "cell_type": "code",
   "execution_count": 245,
   "outputs": [
    {
     "data": {
      "text/plain": "{(3, 4, 5),\n (5, 12, 13),\n (7, 24, 25),\n (8, 15, 17),\n (9, 40, 41),\n (12, 35, 37),\n (20, 21, 29)}"
     },
     "execution_count": 245,
     "metadata": {},
     "output_type": "execute_result"
    }
   ],
   "source": [
    "reduced_pythagoras(50)"
   ],
   "metadata": {
    "collapsed": false,
    "pycharm": {
     "name": "#%%\n"
    }
   }
  },
  {
   "cell_type": "markdown",
   "source": [
    "## Assignment 6\n",
    "\n",
    "Assume playing poker (Texas Hold'em) and one received the cards $\\langle 8,♥\\rangle$ and $\\langle 9,♥\\rangle$. Implement functions that can solve the following questions."
   ],
   "metadata": {
    "collapsed": false,
    "pycharm": {
     "name": "#%% md\n"
    }
   }
  },
  {
   "cell_type": "code",
   "execution_count": 246,
   "outputs": [],
   "source": [
    "colors = {'♥', '♦', '♣', '♠'}\n",
    "values = set(range(1, 14))\n",
    "deck = {(c, v) for c in colors for v in values} - {('♥', 8), ('♥', 9)}\n",
    "flops = {(x, y, z) for x in deck for y in deck for z in deck if len({x, y, z}) == 3}"
   ],
   "metadata": {
    "collapsed": false,
    "pycharm": {
     "name": "#%%\n"
    }
   }
  },
  {
   "cell_type": "markdown",
   "source": [
    "### a)\n",
    "\n",
    "What is the probability that there are at least two more cards of suit $♥$ on the flop?"
   ],
   "metadata": {
    "collapsed": false,
    "pycharm": {
     "name": "#%% md\n"
    }
   }
  },
  {
   "cell_type": "code",
   "execution_count": 247,
   "outputs": [
    {
     "data": {
      "text/plain": "0.11785714285714285"
     },
     "execution_count": 247,
     "metadata": {},
     "output_type": "execute_result"
    }
   ],
   "source": [
    "two_hearts = {f for f in flops if len({c for c in f if c[0] == '♥'}) >= 2}\n",
    "len(two_hearts) / len(flops)"
   ],
   "metadata": {
    "collapsed": false,
    "pycharm": {
     "name": "#%%\n"
    }
   }
  },
  {
   "cell_type": "markdown",
   "source": [
    "### b)\n",
    "\n",
    "What is the probability that all three cards in the flop have the suit $♥$?"
   ],
   "metadata": {
    "collapsed": false,
    "pycharm": {
     "name": "#%% md\n"
    }
   }
  },
  {
   "cell_type": "code",
   "execution_count": 248,
   "outputs": [
    {
     "data": {
      "text/plain": "0.008418367346938776"
     },
     "execution_count": 248,
     "metadata": {},
     "output_type": "execute_result"
    }
   ],
   "source": [
    "three_hearts = {f for f in flops if len({c for c in f if c[0] == '♥'}) >= 3}\n",
    "len(three_hearts) / len(flops)"
   ],
   "metadata": {
    "collapsed": false,
    "pycharm": {
     "name": "#%%\n"
    }
   }
  },
  {
   "cell_type": "markdown",
   "source": [
    "## Assignment 7\n",
    "\n",
    "An **anagram** of a given word $v$ is a word $w$ that is constructed out of all characters of $v$. For example, the word \"atlas\" is an anagram of the german word \"salat\" (salad).\n",
    "\n",
    "Implement a function `anagram`, such that the call `anagram(s)` for a string $s$ returns a set of all words resulting in swapping characters in $s$. The words do not have to make sense."
   ],
   "metadata": {
    "collapsed": false,
    "pycharm": {
     "name": "#%% md\n"
    }
   }
  },
  {
   "cell_type": "code",
   "execution_count": 249,
   "outputs": [],
   "source": [
    "def anagram(s):\n",
    "    if s == '':\n",
    "        return {''}\n",
    "\n",
    "    c, r = s[0], s[1:]\n",
    "    return {a[:i] + c + a[i:] for a in anagram(r) for i in range(len(s))}"
   ],
   "metadata": {
    "collapsed": false,
    "pycharm": {
     "name": "#%%\n"
    }
   }
  },
  {
   "cell_type": "code",
   "execution_count": 250,
   "outputs": [
    {
     "data": {
      "text/plain": "{'aalst',\n 'aalts',\n 'aaslt',\n 'aastl',\n 'aatls',\n 'aatsl',\n 'alast',\n 'alats',\n 'alsat',\n 'alsta',\n 'altas',\n 'altsa',\n 'asalt',\n 'asatl',\n 'aslat',\n 'aslta',\n 'astal',\n 'astla',\n 'atals',\n 'atasl',\n 'atlas',\n 'atlsa',\n 'atsal',\n 'atsla',\n 'laast',\n 'laats',\n 'lasat',\n 'lasta',\n 'latas',\n 'latsa',\n 'lsaat',\n 'lsata',\n 'lstaa',\n 'ltaas',\n 'ltasa',\n 'ltsaa',\n 'saalt',\n 'saatl',\n 'salat',\n 'salta',\n 'satal',\n 'satla',\n 'slaat',\n 'slata',\n 'sltaa',\n 'staal',\n 'stala',\n 'stlaa',\n 'taals',\n 'taasl',\n 'talas',\n 'talsa',\n 'tasal',\n 'tasla',\n 'tlaas',\n 'tlasa',\n 'tlsaa',\n 'tsaal',\n 'tsala',\n 'tslaa'}"
     },
     "execution_count": 250,
     "metadata": {},
     "output_type": "execute_result"
    }
   ],
   "source": [
    "anagram('atlas')"
   ],
   "metadata": {
    "collapsed": false,
    "pycharm": {
     "name": "#%%\n"
    }
   }
  },
  {
   "cell_type": "markdown",
   "source": [
    "## Assignment 8\n",
    "\n",
    "Assume a $n$ dices and $s \\in \\mathbb{N}$. Implement a function `number_dice_rolls`, such that the call `number_dice_rolls(n, s)` calculates the number of possibilities to dice the number $s$ with $n$ dices. For example, `number_dice_rolls(3, 5)` should return $6$, as there are $6$ possibilities to dice a $5$ in sum with $3$ dices: $\\langle 1,1,3\\rangle$,$\\langle 1,2,2\\rangle$,$\\langle 1,3,1\\rangle$,$\\langle 2,1,2\\rangle$,$\\langle 2,2,1\\rangle$,$\\langle 3,1,1\\rangle$."
   ],
   "metadata": {
    "collapsed": false,
    "pycharm": {
     "name": "#%% md\n"
    }
   }
  },
  {
   "cell_type": "code",
   "execution_count": 253,
   "outputs": [],
   "source": [
    "def number_dice_rolls(n, s):\n",
    "    if n == 1:\n",
    "        if s in range(1, 7):\n",
    "            return 1\n",
    "        else:\n",
    "            return 0\n",
    "\n",
    "    result = 0\n",
    "    for w in range(1, 7):\n",
    "        result += number_dice_rolls(n - 1, s - w)\n",
    "\n",
    "    return result"
   ],
   "metadata": {
    "collapsed": false,
    "pycharm": {
     "name": "#%%\n"
    }
   }
  },
  {
   "cell_type": "code",
   "execution_count": 254,
   "outputs": [
    {
     "data": {
      "text/plain": "6"
     },
     "execution_count": 254,
     "metadata": {},
     "output_type": "execute_result"
    }
   ],
   "source": [
    "number_dice_rolls(3, 5)"
   ],
   "metadata": {
    "collapsed": false,
    "pycharm": {
     "name": "#%%\n"
    }
   }
  },
  {
   "cell_type": "code",
   "execution_count": 252,
   "outputs": [],
   "source": [],
   "metadata": {
    "collapsed": false,
    "pycharm": {
     "name": "#%%\n"
    }
   }
  }
 ],
 "metadata": {
  "kernelspec": {
   "display_name": "Python 3 (ipykernel)",
   "language": "python",
   "name": "python3"
  },
  "language_info": {
   "codemirror_mode": {
    "name": "ipython",
    "version": 3
   },
   "file_extension": ".py",
   "mimetype": "text/x-python",
   "name": "python",
   "nbconvert_exporter": "python",
   "pygments_lexer": "ipython3",
   "version": "3.8.9"
  }
 },
 "nbformat": 4,
 "nbformat_minor": 1
}