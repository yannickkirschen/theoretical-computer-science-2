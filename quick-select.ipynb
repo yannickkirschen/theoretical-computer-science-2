{
 "cells": [
  {
   "cell_type": "markdown",
   "source": [
    "# Quick Select\n",
    "\n",
    "Develop a function `quick_select(k, l)` that returns a list of the $k$ smallest elements from a list $l$."
   ],
   "metadata": {
    "collapsed": false,
    "pycharm": {
     "name": "#%% md\n"
    }
   }
  },
  {
   "cell_type": "code",
   "execution_count": 11,
   "outputs": [],
   "source": [
    "def quick_select(k, l):\n",
    "    if len(l) == k:\n",
    "        return sorted(l)\n",
    "\n",
    "    pivot, *rest = l\n",
    "    smaller = [y for y in rest if y <= pivot]\n",
    "    bigger = [y for y in rest if y >  pivot]\n",
    "\n",
    "    if k <= len(smaller):\n",
    "        return quick_select(k, smaller)\n",
    "\n",
    "    if k == len(smaller) + 1:\n",
    "        return smaller + pivot\n",
    "\n",
    "    return smaller + pivot + quick_select(bigger, k - len(smaller) - 1)"
   ],
   "metadata": {
    "collapsed": false,
    "pycharm": {
     "name": "#%%\n"
    }
   }
  },
  {
   "cell_type": "code",
   "execution_count": 12,
   "outputs": [
    {
     "data": {
      "text/plain": "[1, 2, 3]"
     },
     "execution_count": 12,
     "metadata": {},
     "output_type": "execute_result"
    }
   ],
   "source": [
    "quick_select(3, [10, 4, 2, 19, 6, 1, 8, 3]) # [1, 2, 3]"
   ],
   "metadata": {
    "collapsed": false,
    "pycharm": {
     "name": "#%%\n"
    }
   }
  },
  {
   "cell_type": "code",
   "execution_count": null,
   "outputs": [],
   "source": [],
   "metadata": {
    "collapsed": false,
    "pycharm": {
     "name": "#%%\n"
    }
   }
  }
 ],
 "metadata": {
  "kernelspec": {
   "display_name": "Python 3",
   "language": "python",
   "name": "python3"
  },
  "language_info": {
   "codemirror_mode": {
    "name": "ipython",
    "version": 2
   },
   "file_extension": ".py",
   "mimetype": "text/x-python",
   "name": "python",
   "nbconvert_exporter": "python",
   "pygments_lexer": "ipython2",
   "version": "2.7.6"
  }
 },
 "nbformat": 4,
 "nbformat_minor": 0
}